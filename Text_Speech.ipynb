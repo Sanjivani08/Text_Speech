{
 "cells": [
  {
   "cell_type": "code",
   "execution_count": 1,
   "id": "f4566063-a37b-4e32-9a46-e6dacf78c21b",
   "metadata": {},
   "outputs": [
    {
     "name": "stdout",
     "output_type": "stream",
     "text": [
      "Requirement already satisfied: SpeechRecognition in c:\\users\\hp\\appdata\\local\\programs\\python\\python312\\lib\\site-packages (3.10.4)\n",
      "Requirement already satisfied: requests>=2.26.0 in c:\\users\\hp\\appdata\\local\\programs\\python\\python312\\lib\\site-packages (from SpeechRecognition) (2.32.3)\n",
      "Requirement already satisfied: typing-extensions in c:\\users\\hp\\appdata\\local\\programs\\python\\python312\\lib\\site-packages (from SpeechRecognition) (4.12.2)\n",
      "Requirement already satisfied: charset-normalizer<4,>=2 in c:\\users\\hp\\appdata\\local\\programs\\python\\python312\\lib\\site-packages (from requests>=2.26.0->SpeechRecognition) (3.3.2)\n",
      "Requirement already satisfied: idna<4,>=2.5 in c:\\users\\hp\\appdata\\local\\programs\\python\\python312\\lib\\site-packages (from requests>=2.26.0->SpeechRecognition) (3.8)\n",
      "Requirement already satisfied: urllib3<3,>=1.21.1 in c:\\users\\hp\\appdata\\local\\programs\\python\\python312\\lib\\site-packages (from requests>=2.26.0->SpeechRecognition) (2.2.2)\n",
      "Requirement already satisfied: certifi>=2017.4.17 in c:\\users\\hp\\appdata\\local\\programs\\python\\python312\\lib\\site-packages (from requests>=2.26.0->SpeechRecognition) (2024.7.4)\n",
      "Requirement already satisfied: gTTS in c:\\users\\hp\\appdata\\local\\programs\\python\\python312\\lib\\site-packages (2.5.3)\n",
      "Requirement already satisfied: requests<3,>=2.27 in c:\\users\\hp\\appdata\\local\\programs\\python\\python312\\lib\\site-packages (from gTTS) (2.32.3)\n",
      "Requirement already satisfied: click<8.2,>=7.1 in c:\\users\\hp\\appdata\\local\\programs\\python\\python312\\lib\\site-packages (from gTTS) (8.1.7)\n",
      "Requirement already satisfied: colorama in c:\\users\\hp\\appdata\\local\\programs\\python\\python312\\lib\\site-packages (from click<8.2,>=7.1->gTTS) (0.4.6)\n",
      "Requirement already satisfied: charset-normalizer<4,>=2 in c:\\users\\hp\\appdata\\local\\programs\\python\\python312\\lib\\site-packages (from requests<3,>=2.27->gTTS) (3.3.2)\n",
      "Requirement already satisfied: idna<4,>=2.5 in c:\\users\\hp\\appdata\\local\\programs\\python\\python312\\lib\\site-packages (from requests<3,>=2.27->gTTS) (3.8)\n",
      "Requirement already satisfied: urllib3<3,>=1.21.1 in c:\\users\\hp\\appdata\\local\\programs\\python\\python312\\lib\\site-packages (from requests<3,>=2.27->gTTS) (2.2.2)\n",
      "Requirement already satisfied: certifi>=2017.4.17 in c:\\users\\hp\\appdata\\local\\programs\\python\\python312\\lib\\site-packages (from requests<3,>=2.27->gTTS) (2024.7.4)\n",
      "Requirement already satisfied: PyAudio in c:\\users\\hp\\appdata\\local\\programs\\python\\python312\\lib\\site-packages (0.2.14)\n",
      "Requirement already satisfied: just_playback in c:\\users\\hp\\appdata\\local\\programs\\python\\python312\\lib\\site-packages (0.1.8)\n",
      "Requirement already satisfied: cffi>=1.0.0 in c:\\users\\hp\\appdata\\local\\programs\\python\\python312\\lib\\site-packages (from just_playback) (1.17.0)\n",
      "Requirement already satisfied: tinytag in c:\\users\\hp\\appdata\\local\\programs\\python\\python312\\lib\\site-packages (from just_playback) (1.10.1)\n",
      "Requirement already satisfied: pycparser in c:\\users\\hp\\appdata\\local\\programs\\python\\python312\\lib\\site-packages (from cffi>=1.0.0->just_playback) (2.22)\n"
     ]
    }
   ],
   "source": [
    "!pip install SpeechRecognition\n",
    "!pip install gTTS\n",
    "!pip install PyAudio\n",
    "!pip install just_playback"
   ]
  },
  {
   "cell_type": "code",
   "execution_count": 11,
   "id": "03f89690-635d-498e-8051-437b1cb4bb2c",
   "metadata": {},
   "outputs": [
    {
     "name": "stdout",
     "output_type": "stream",
     "text": [
      "Collecting pygame\n",
      "  Downloading pygame-2.6.0-cp312-cp312-win_amd64.whl.metadata (13 kB)\n",
      "Downloading pygame-2.6.0-cp312-cp312-win_amd64.whl (10.8 MB)\n",
      "   ---------------------------------------- 0.0/10.8 MB ? eta -:--:--\n",
      "   ---------------------------------------- 0.0/10.8 MB ? eta -:--:--\n",
      "   ---------------------------------------- 0.0/10.8 MB ? eta -:--:--\n",
      "   ---------------------------------------- 0.0/10.8 MB ? eta -:--:--\n",
      "    --------------------------------------- 0.3/10.8 MB ? eta -:--:--\n",
      "   - -------------------------------------- 0.5/10.8 MB 762.0 kB/s eta 0:00:14\n",
      "   -- ------------------------------------- 0.8/10.8 MB 958.5 kB/s eta 0:00:11\n",
      "   ---- ----------------------------------- 1.3/10.8 MB 1.3 MB/s eta 0:00:08\n",
      "   ------- -------------------------------- 2.1/10.8 MB 1.8 MB/s eta 0:00:05\n",
      "   ---------- ----------------------------- 2.9/10.8 MB 2.1 MB/s eta 0:00:04\n",
      "   ---------------- ----------------------- 4.5/10.8 MB 2.8 MB/s eta 0:00:03\n",
      "   ---------------------- ----------------- 6.0/10.8 MB 3.4 MB/s eta 0:00:02\n",
      "   -------------------------- ------------- 7.1/10.8 MB 3.8 MB/s eta 0:00:01\n",
      "   --------------------------- ------------ 7.3/10.8 MB 3.4 MB/s eta 0:00:02\n",
      "   ---------------------------------- ----- 9.2/10.8 MB 4.2 MB/s eta 0:00:01\n",
      "   ---------------------------------- ----- 9.2/10.8 MB 4.2 MB/s eta 0:00:01\n",
      "   ------------------------------------ --- 9.7/10.8 MB 3.5 MB/s eta 0:00:01\n",
      "   ------------------------------------ --- 9.7/10.8 MB 3.5 MB/s eta 0:00:01\n",
      "   ------------------------------------- -- 10.0/10.8 MB 3.1 MB/s eta 0:00:01\n",
      "   ---------------------------------------  10.5/10.8 MB 3.2 MB/s eta 0:00:01\n",
      "   ---------------------------------------  10.7/10.8 MB 3.0 MB/s eta 0:00:01\n",
      "   ---------------------------------------- 10.8/10.8 MB 2.8 MB/s eta 0:00:00\n",
      "Installing collected packages: pygame\n",
      "Successfully installed pygame-2.6.0\n"
     ]
    }
   ],
   "source": [
    "!pip install pygame\n"
   ]
  },
  {
   "cell_type": "code",
   "execution_count": 12,
   "id": "2623ee7e-79ae-4763-bd2c-dfcd184a109d",
   "metadata": {},
   "outputs": [
    {
     "name": "stdout",
     "output_type": "stream",
     "text": [
      "pygame 2.6.0 (SDL 2.28.4, Python 3.12.5)\n",
      "Hello from the pygame community. https://www.pygame.org/contribute.html\n"
     ]
    }
   ],
   "source": [
    "from gtts import gTTS, lang\n",
    "from just_playback import Playback\n",
    "import os\n",
    "from tkinter import *\n",
    "from tkinter import messagebox\n",
    "import speech_recognition as sr\n",
    "import pygame"
   ]
  },
  {
   "cell_type": "code",
   "execution_count": 13,
   "id": "3d6f18a6-5402-476d-acbf-7da239c00b50",
   "metadata": {},
   "outputs": [],
   "source": [
    "def text_to_speech():\n",
    "    text = text_entry.get(\"1.0\", \"end-1c\")\n",
    "    language = accent_entry.get()\n",
    "    \n",
    "    if (len(text) <= 1) or (len(language) <= 0):\n",
    "        messagebox.showerror(message=\"Enter required field\")\n",
    "        return \n",
    "    \n",
    "    # Convert text to speech and save the output to an MP3 file\n",
    "    speech = gTTS(text=text, lang=language, slow=False)\n",
    "    speech.save(\"text.mp3\")\n",
    "    print(\"text.mp3 has been saved successfully\")\n",
    "    \n",
    "    # Initialize pygame mixer\n",
    "    pygame.mixer.init()\n",
    "    \n",
    "    try:\n",
    "        # Load and play the saved audio file\n",
    "        pygame.mixer.music.load(\"text.mp3\")\n",
    "        pygame.mixer.music.play()\n",
    "        while pygame.mixer.music.get_busy():  # Wait for the music to finish playing\n",
    "            pygame.time.Clock().tick(10)\n",
    "    except Exception as e:\n",
    "        messagebox.showerror(message=f\"Playback failed: {str(e)}\")"
   ]
  },
  {
   "cell_type": "code",
   "execution_count": 14,
   "id": "f05bc0d1-4d43-4d76-8538-f0ec333b389d",
   "metadata": {},
   "outputs": [],
   "source": [
    "def list_languages():\n",
    "    messagebox.showinfo(message= list(lang.tts_langs().items()))\n"
   ]
  },
  {
   "cell_type": "code",
   "execution_count": 19,
   "id": "99de82ee-55b3-497e-be5f-ae76bd32876c",
   "metadata": {},
   "outputs": [],
   "source": [
    "def speech_to_text(): \n",
    "    recorder = sr.Recognizer()\n",
    "    try:\n",
    "        duration= int(duration_entry.get())\n",
    "    except: \n",
    "        messagebox.showerror(message=\"Enter the duration\")\n",
    "        return \n",
    "    messagebox.showinfo(message=\"Speak into the microphone and wait after finishing the recording\")\n",
    "    with sr.Microphone() as mic:\n",
    "        recorder.adjust_for_ambient_noise(mic)\n",
    "        audio_input = recorder.listen(mic, timeout=duration)\n",
    "        try: \n",
    "            text_output=recorder.recognize_google(audio_input)\n",
    "            messagebox.showinfo(message=\"You said:\\n \"+text_output)\n",
    "        except:\n",
    "            messagebox.showerror(message=\"Couldn't process the audio input.\")"
   ]
  },
  {
   "cell_type": "code",
   "execution_count": 21,
   "id": "a52ec548-a9a5-416b-ad40-ee737ba77246",
   "metadata": {},
   "outputs": [],
   "source": [
    "#Invoke call to class to view a window\n",
    "window = Tk()\n",
    "#Set dimensions of window and title\n",
    "window.geometry(\"500x300\")\n",
    "window.title(\"Convert Speech to text and text to Speech\")\n",
    "title_label = Label(window, text=\"Convert Speech to text and text to Speech\").pack()\n",
    "#Read inputs\n",
    "#text_to_speech input\n",
    "text_label = Label(window, text=\"Text:\").place(x=10,y=20)\n",
    "text_entry = Text(window, width=30,height=5)\n",
    "text_entry.place(x=80,y=20)\n",
    "#Accent input\n",
    "accent_label = Label(window, text=\"Accent:\").place(x=10,y=110)\n",
    "accent_entry = Entry(window,  width=26)\n",
    "accent_entry.place(x=80,y=110)\n",
    "duration_label = Label(window, text=\"Duration:\").place(x=10,y=140)\n",
    "duration_entry = Entry(window,  width=26)\n",
    "duration_entry.place(x=80,y=140)\n",
    " \n",
    "#Perform the functions\n",
    "button1 = Button(window,text='List languages', bg = 'Turquoise',fg='Red',command=list_languages).place(x=10,y=190)\n",
    "button2 = Button(window,text='Convert Text to Speech', bg = 'Turquoise',fg='Red',command=text_to_speech).place(x=130,y=190)\n",
    "button3 = Button(window,text='Convert Speech to Text', bg = 'Turquoise',fg='Red',command=speech_to_text).place(x=305,y=190)\n",
    " \n",
    "#close the app\n",
    "window.mainloop()\n",
    "\n"
   ]
  },
  {
   "cell_type": "code",
   "execution_count": null,
   "id": "4271f0a7-3bb8-40b8-9c76-ca17bc2aae8d",
   "metadata": {},
   "outputs": [],
   "source": []
  }
 ],
 "metadata": {
  "kernelspec": {
   "display_name": "Python 3 (ipykernel)",
   "language": "python",
   "name": "python3"
  },
  "language_info": {
   "codemirror_mode": {
    "name": "ipython",
    "version": 3
   },
   "file_extension": ".py",
   "mimetype": "text/x-python",
   "name": "python",
   "nbconvert_exporter": "python",
   "pygments_lexer": "ipython3",
   "version": "3.12.5"
  }
 },
 "nbformat": 4,
 "nbformat_minor": 5
}
